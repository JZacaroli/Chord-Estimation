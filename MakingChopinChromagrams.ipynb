{
 "cells": [
  {
   "cell_type": "code",
   "execution_count": 54,
   "metadata": {},
   "outputs": [
    {
     "name": "stdout",
     "output_type": "stream",
     "text": [
      "Converting Data.nosync/ChopinChromagrams.svl...\n",
      "Saved ChopinChromagrams.csv\n"
     ]
    }
   ],
   "source": [
    "import xml.etree.ElementTree as ET\n",
    "import numpy as np\n",
    "\n",
    "def convertSVLToCSV(filename):\n",
    "    print('Converting', filename + '...')\n",
    "    \n",
    "    window_size=-1\n",
    "\n",
    "    #16398 time steps. One column for time, 24 columns for bass and chroma vectors\n",
    "    data_array = np.zeros((16399,25))\n",
    "    \n",
    "    tree = ET.parse(filename)\n",
    "    root = tree.getroot()\n",
    "    for sv_child in root:\n",
    "        if sv_child.tag == 'data':\n",
    "            for data_child in sv_child:\n",
    "                if data_child.tag == 'model':\n",
    "                    sample_rate = int(data_child.attrib['sampleRate'])\n",
    "                    window_size = int(data_child.attrib['windowSize'])\n",
    "                elif data_child.tag == 'dataset':\n",
    "                    for dataset_child in data_child:\n",
    "                        if dataset_child.tag == 'row':\n",
    "                            n = int(dataset_child.attrib['n'])\n",
    "                            data_array[n][0]=n*window_size/sample_rate\n",
    "                            for i,numberStr in enumerate(dataset_child.text.split(' ')):\n",
    "                                data_array[n][i+1] = float(numberStr)\n",
    "    \n",
    "    save_filename = 'ChopinChromagrams.csv'\n",
    "    np.savetxt(save_filename, data_array, delimiter=',')\n",
    "    print('Saved', save_filename)\n",
    "\n",
    "convertSVLToCSV(\"Data.nosync/ChopinChromagrams.svl\")"
   ]
  },
  {
   "cell_type": "code",
   "execution_count": 56,
   "metadata": {},
   "outputs": [],
   "source": [
    "chopin_chromagrams = np.loadtxt('ChopinChromagrams.csv', delimiter=',')"
   ]
  },
  {
   "cell_type": "code",
   "execution_count": 57,
   "metadata": {},
   "outputs": [
    {
     "data": {
      "text/plain": [
       "array([[0.00000000e+00, 0.00000000e+00, 0.00000000e+00, ...,\n",
       "        0.00000000e+00, 0.00000000e+00, 0.00000000e+00],\n",
       "       [4.64399100e-02, 0.00000000e+00, 0.00000000e+00, ...,\n",
       "        0.00000000e+00, 0.00000000e+00, 0.00000000e+00],\n",
       "       [9.28798200e-02, 0.00000000e+00, 0.00000000e+00, ...,\n",
       "        0.00000000e+00, 0.00000000e+00, 0.00000000e+00],\n",
       "       ...,\n",
       "       [7.61428753e+02, 0.00000000e+00, 0.00000000e+00, ...,\n",
       "        0.00000000e+00, 0.00000000e+00, 0.00000000e+00],\n",
       "       [7.61475193e+02, 0.00000000e+00, 0.00000000e+00, ...,\n",
       "        0.00000000e+00, 0.00000000e+00, 0.00000000e+00],\n",
       "       [7.61521633e+02, 0.00000000e+00, 0.00000000e+00, ...,\n",
       "        0.00000000e+00, 0.00000000e+00, 0.00000000e+00]])"
      ]
     },
     "execution_count": 57,
     "metadata": {},
     "output_type": "execute_result"
    }
   ],
   "source": [
    "chopin_chromagrams"
   ]
  },
  {
   "cell_type": "code",
   "execution_count": null,
   "metadata": {},
   "outputs": [],
   "source": []
  }
 ],
 "metadata": {
  "kernelspec": {
   "display_name": "Python 3",
   "language": "python",
   "name": "python3"
  },
  "language_info": {
   "codemirror_mode": {
    "name": "ipython",
    "version": 3
   },
   "file_extension": ".py",
   "mimetype": "text/x-python",
   "name": "python",
   "nbconvert_exporter": "python",
   "pygments_lexer": "ipython3",
   "version": "3.7.4"
  }
 },
 "nbformat": 4,
 "nbformat_minor": 2
}
